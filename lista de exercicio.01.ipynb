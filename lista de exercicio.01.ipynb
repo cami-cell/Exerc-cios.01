{
 "cells": [
  {
   "cell_type": "code",
   "execution_count": 1,
   "metadata": {
    "colab": {
     "base_uri": "https://localhost:8080/"
    },
    "executionInfo": {
     "elapsed": 18445,
     "status": "ok",
     "timestamp": 1759341789858,
     "user": {
      "displayName": "Camila Dias",
      "userId": "04748958258699504680"
     },
     "user_tz": 180
    },
    "id": "K0ESho728ES4",
    "outputId": "cb6a3641-e510-41ef-9f80-c0642133f377"
   },
   "outputs": [
    {
     "name": "stdout",
     "output_type": "stream",
     "text": [
      "Digite o seu nome: Camila\n",
      "Olá, Camila!\n"
     ]
    }
   ],
   "source": [
    "\n",
    "nome = input(\"Digite o seu nome: \")\n",
    "print(f\"Olá, {nome}!\")\n"
   ]
  },
  {
   "cell_type": "code",
   "execution_count": 2,
   "metadata": {
    "colab": {
     "base_uri": "https://localhost:8080/"
    },
    "executionInfo": {
     "elapsed": 13874,
     "status": "ok",
     "timestamp": 1759341958578,
     "user": {
      "displayName": "Camila Dias",
      "userId": "04748958258699504680"
     },
     "user_tz": 180
    },
    "id": "wX_v7YrP8kok",
    "outputId": "c14f919a-f204-4c14-e44e-f6389a5b60c5"
   },
   "outputs": [
    {
     "name": "stdout",
     "output_type": "stream",
     "text": [
      "Digite um número inteiro: 8\n",
      "Você digitou o número: 8\n"
     ]
    }
   ],
   "source": [
    "\n",
    "numero = int(input(\"Digite um número inteiro: \"))\n",
    "print(f\"Você digitou o número: {numero}\")\n"
   ]
  },
  {
   "cell_type": "code",
   "execution_count": 3,
   "metadata": {
    "colab": {
     "base_uri": "https://localhost:8080/"
    },
    "executionInfo": {
     "elapsed": 12621,
     "status": "ok",
     "timestamp": 1759342166653,
     "user": {
      "displayName": "Camila Dias",
      "userId": "04748958258699504680"
     },
     "user_tz": 180
    },
    "id": "jVzop81s9k63",
    "outputId": "9840d2ea-ea04-467e-bcb1-a08d1c3da537"
   },
   "outputs": [
    {
     "name": "stdout",
     "output_type": "stream",
     "text": [
      "Digite o primeiro número inteiro: 5\n",
      "Digite o segundo número inteiro: 7\n",
      "A soma entre 5 e 7 é 12\n"
     ]
    }
   ],
   "source": [
    "-\n",
    ",\n",
    "num1 = int(input(\"Digite o primeiro número inteiro: \"))\n",
    "num2 = int(input(\"Digite o segundo número inteiro: \"))\n",
    "soma = num1 + num2\n",
    "print(f\"A soma entre {num1} e {num2} é {soma}\")\n"
   ]
  },
  {
   "cell_type": "code",
   "execution_count": null,
   "metadata": {
    "id": "duI6ZbZZ9gUR"
   },
   "outputs": [],
   "source": []
  },
  {
   "cell_type": "code",
   "execution_count": 4,
   "metadata": {
    "colab": {
     "base_uri": "https://localhost:8080/"
    },
    "executionInfo": {
     "elapsed": 14047,
     "status": "ok",
     "timestamp": 1759342439346,
     "user": {
      "displayName": "Camila Dias",
      "userId": "04748958258699504680"
     },
     "user_tz": 180
    },
    "id": "2Ap2OVRh-q__",
    "outputId": "bb2fbd19-b027-46ba-edcd-8dec9abcd36d"
   },
   "outputs": [
    {
     "name": "stdout",
     "output_type": "stream",
     "text": [
      "Digite sua idade: 22\n",
      "Você tem 22 anos\n"
     ]
    }
   ],
   "source": [
    "\n",
    "idade = int(input(\"Digite sua idade: \"))\n",
    "print(f\"Você tem {idade} anos\")\n"
   ]
  },
  {
   "cell_type": "code",
   "execution_count": 5,
   "metadata": {
    "colab": {
     "base_uri": "https://localhost:8080/"
    },
    "executionInfo": {
     "elapsed": 12514,
     "status": "ok",
     "timestamp": 1759342546556,
     "user": {
      "displayName": "Camila Dias",
      "userId": "04748958258699504680"
     },
     "user_tz": 180
    },
    "id": "LUv2VUtr_GG0",
    "outputId": "37e4a7bb-160b-4388-fb02-3eed10c64d1b"
   },
   "outputs": [
    {
     "name": "stdout",
     "output_type": "stream",
     "text": [
      "Digite o preço do produto: R$ 20\n",
      "Preço com 10% de desconto: R$ 18.00\n"
     ]
    }
   ],
   "source": [
    "\n",
    "preco = float(input(\"Digite o preço do produto: R$ \"))\n",
    "desconto = preco * 0.10\n",
    "preco_desconto = preco - desconto\n",
    "print(f\"Preço com 10% de desconto: R$ {preco_desconto:.2f}\")\n"
   ]
  },
  {
   "cell_type": "code",
   "execution_count": 6,
   "metadata": {
    "colab": {
     "base_uri": "https://localhost:8080/"
    },
    "executionInfo": {
     "elapsed": 18981,
     "status": "ok",
     "timestamp": 1759342604467,
     "user": {
      "displayName": "Camila Dias",
      "userId": "04748958258699504680"
     },
     "user_tz": 180
    },
    "id": "IyZwv-Qq_Rxi",
    "outputId": "118c59c2-af19-435c-9950-b89d90a9b1dc"
   },
   "outputs": [
    {
     "name": "stdout",
     "output_type": "stream",
     "text": [
      "Digite a altura em metros: 2\n",
      "Digite o peso em kg: 120\n",
      "Seu IMC é 30.00\n"
     ]
    }
   ],
   "source": [
    "\n",
    "altura = float(input(\"Digite a altura em metros: \"))\n",
    "peso = float(input(\"Digite o peso em kg: \"))\n",
    "imc = peso / (altura ** 2)\n",
    "print(f\"Seu IMC é {imc:.2f}\")\n"
   ]
  },
  {
   "cell_type": "code",
   "execution_count": 7,
   "metadata": {
    "colab": {
     "base_uri": "https://localhost:8080/"
    },
    "executionInfo": {
     "elapsed": 501609,
     "status": "ok",
     "timestamp": 1759343155585,
     "user": {
      "displayName": "Camila Dias",
      "userId": "04748958258699504680"
     },
     "user_tz": 180
    },
    "id": "tTzUrd7l_idT",
    "outputId": "5b5024f2-bba0-408c-e84b-b0fe7003cb9f"
   },
   "outputs": [
    {
     "name": "stdout",
     "output_type": "stream",
     "text": [
      "Digite a temperatura em graus Celsius: 3\n",
      "3.0°C equivalem a 37.40°F\n"
     ]
    }
   ],
   "source": [
    "\n",
    "celsius = float(input(\"Digite a temperatura em graus Celsius: \"))\n",
    "fahrenheit = celsius * 9 / 5 + 32\n",
    "print(f\"{celsius}°C equivalem a {fahrenheit:.2f}°F\")\n"
   ]
  },
  {
   "cell_type": "code",
   "execution_count": 8,
   "metadata": {
    "colab": {
     "base_uri": "https://localhost:8080/"
    },
    "executionInfo": {
     "elapsed": 11295,
     "status": "ok",
     "timestamp": 1759343254745,
     "user": {
      "displayName": "Camila Dias",
      "userId": "04748958258699504680"
     },
     "user_tz": 180
    },
    "id": "zwJEFf8eBxxc",
    "outputId": "a8315a2b-e262-44fb-9564-19894a7a58a3"
   },
   "outputs": [
    {
     "name": "stdout",
     "output_type": "stream",
     "text": [
      "Digite o primeiro número: 5\n",
      "Digite o segundo número: 8\n",
      "A média aritmética é 6.5\n"
     ]
    }
   ],
   "source": [
    "\n",
    "n1 = float(input(\"Digite o primeiro número: \"))\n",
    "n2 = float(input(\"Digite o segundo número: \"))\n",
    "media = (n1 + n2) / 2\n",
    "print(f\"A média aritmética é {media}\")\n"
   ]
  },
  {
   "cell_type": "code",
   "execution_count": 9,
   "metadata": {
    "colab": {
     "base_uri": "https://localhost:8080/"
    },
    "executionInfo": {
     "elapsed": 24741,
     "status": "ok",
     "timestamp": 1759343332116,
     "user": {
      "displayName": "Camila Dias",
      "userId": "04748958258699504680"
     },
     "user_tz": 180
    },
    "id": "rGfNha8hB9rL",
    "outputId": "a17f62ec-ab62-4638-df61-4d9e65f62fdc"
   },
   "outputs": [
    {
     "name": "stdout",
     "output_type": "stream",
     "text": [
      "Dias: 9\n",
      "Horas: 10\n",
      "Minutos: 5\n",
      "Segundos: 30\n",
      "O total em segundos é 813930\n"
     ]
    }
   ],
   "source": [
    "\n",
    "dias = int(input(\"Dias: \"))\n",
    "horas = int(input(\"Horas: \"))\n",
    "minutos = int(input(\"Minutos: \"))\n",
    "segundos = int(input(\"Segundos: \"))\n",
    "\n",
    "total_segundos = dias * 86400 + horas * 3600 + minutos * 60 + segundos\n",
    "print(f\"O total em segundos é {total_segundos}\")\n"
   ]
  },
  {
   "cell_type": "code",
   "execution_count": 10,
   "metadata": {
    "colab": {
     "base_uri": "https://localhost:8080/"
    },
    "executionInfo": {
     "elapsed": 5921,
     "status": "ok",
     "timestamp": 1759343385394,
     "user": {
      "displayName": "Camila Dias",
      "userId": "04748958258699504680"
     },
     "user_tz": 180
    },
    "id": "WUhirZTWCSkL",
    "outputId": "cb29c814-b4f8-4638-9d90-62a6d6d3fa6b"
   },
   "outputs": [
    {
     "name": "stdout",
     "output_type": "stream",
     "text": [
      "Digite um número para a tabuada: 3\n",
      "3 x 1 = 3\n",
      "3 x 2 = 6\n",
      "3 x 3 = 9\n",
      "3 x 4 = 12\n",
      "3 x 5 = 15\n",
      "3 x 6 = 18\n",
      "3 x 7 = 21\n",
      "3 x 8 = 24\n",
      "3 x 9 = 27\n",
      "3 x 10 = 30\n",
      "3 / 1 = 3.0\n",
      "3 / 2 = 1.5\n",
      "3 / 3 = 1.0\n",
      "3 / 4 = 0.75\n",
      "3 / 5 = 0.6\n",
      "3 / 6 = 0.5\n",
      "3 / 7 = 0.42857142857142855\n",
      "3 / 8 = 0.375\n",
      "3 / 9 = 0.3333333333333333\n",
      "3 / 10 = 0.3\n",
      "3 + 1 = 4\n",
      "3 + 2 = 5\n",
      "3 + 3 = 6\n",
      "3 + 4 = 7\n",
      "3 + 5 = 8\n",
      "3 + 6 = 9\n",
      "3 + 7 = 10\n",
      "3 + 8 = 11\n",
      "3 + 9 = 12\n",
      "3 + 10 = 13\n",
      "3 - 1 = 2\n",
      "3 - 2 = 1\n",
      "3 - 3 = 0\n",
      "3 - 4 = -1\n",
      "3 - 5 = -2\n",
      "3 - 6 = -3\n",
      "3 - 7 = -4\n",
      "3 - 8 = -5\n",
      "3 - 9 = -6\n",
      "3 - 10 = -7\n"
     ]
    }
   ],
   "source": [
    "\n",
    "n = int(input(\"Digite um número para a tabuada: \"))\n",
    "\n",
    "print(f\"{n} x 1 = {n * 1}\")\n",
    "print(f\"{n} x 2 = {n * 2}\")\n",
    "print(f\"{n} x 3 = {n * 3}\")\n",
    "print(f\"{n} x 4 = {n * 4}\")\n",
    "print(f\"{n} x 5 = {n * 5}\")\n",
    "print(f\"{n} x 6 = {n * 6}\")\n",
    "print(f\"{n} x 7 = {n * 7}\")\n",
    "print(f\"{n} x 8 = {n * 8}\")\n",
    "print(f\"{n} x 9 = {n * 9}\")\n",
    "print(f\"{n} x 10 = {n * 10}\")\n",
    "\n",
    "print(f\"{n} / 1 = {n / 1}\")\n",
    "print(f\"{n} / 2 = {n / 2}\")\n",
    "print(f\"{n} / 3 = {n / 3}\")\n",
    "print(f\"{n} / 4 = {n / 4}\")\n",
    "print(f\"{n} / 5 = {n / 5}\")\n",
    "print(f\"{n} / 6 = {n / 6}\")\n",
    "print(f\"{n} / 7 = {n / 7}\")\n",
    "print(f\"{n} / 8 = {n / 8}\")\n",
    "print(f\"{n} / 9 = {n / 9}\")\n",
    "print(f\"{n} / 10 = {n / 10}\")\n",
    "\n",
    "print(f\"{n} + 1 = {n + 1}\")\n",
    "print(f\"{n} + 2 = {n + 2}\")\n",
    "print(f\"{n} + 3 = {n + 3}\")\n",
    "print(f\"{n} + 4 = {n + 4}\")\n",
    "print(f\"{n} + 5 = {n + 5}\")\n",
    "print(f\"{n} + 6 = {n + 6}\")\n",
    "print(f\"{n} + 7 = {n + 7}\")\n",
    "print(f\"{n} + 8 = {n + 8}\")\n",
    "print(f\"{n} + 9 = {n + 9}\")\n",
    "print(f\"{n} + 10 = {n + 10}\")\n",
    "\n",
    "print(f\"{n} - 1 = {n - 1}\")\n",
    "print(f\"{n} - 2 = {n - 2}\")\n",
    "print(f\"{n} - 3 = {n - 3}\")\n",
    "print(f\"{n} - 4 = {n - 4}\")\n",
    "print(f\"{n} - 5 = {n - 5}\")\n",
    "print(f\"{n} - 6 = {n - 6}\")\n",
    "print(f\"{n} - 7 = {n - 7}\")\n",
    "print(f\"{n} - 8 = {n - 8}\")\n",
    "print(f\"{n} - 9 = {n - 9}\")\n",
    "print(f\"{n} - 10 = {n - 10}\")\n"
   ]
  }
 ],
 "metadata": {
  "colab": {
   "authorship_tag": "ABX9TyOc7nvIh2Keaag36OF6Fdeo",
   "provenance": []
  },
  "kernelspec": {
   "display_name": "Python 3",
   "name": "python3"
  },
  "language_info": {
   "name": "python"
  }
 },
 "nbformat": 4,
 "nbformat_minor": 0
}
